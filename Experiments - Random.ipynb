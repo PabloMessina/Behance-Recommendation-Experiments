{
 "cells": [
  {
   "cell_type": "code",
   "execution_count": 1,
   "metadata": {},
   "outputs": [],
   "source": [
    "%load_ext autoreload\n",
    "%autoreload 1"
   ]
  },
  {
   "cell_type": "code",
   "execution_count": 2,
   "metadata": {},
   "outputs": [],
   "source": [
    "%aimport utils"
   ]
  },
  {
   "cell_type": "code",
   "execution_count": 3,
   "metadata": {},
   "outputs": [],
   "source": [
    "import random\n",
    "from utils import run_experiment, AUC"
   ]
  },
  {
   "cell_type": "code",
   "execution_count": 4,
   "metadata": {},
   "outputs": [],
   "source": [
    "def compute_AUC(train_items, test_pos_items, test_neg_items):    \n",
    "    # rank test items\n",
    "    test_items = test_pos_items + test_neg_items\n",
    "    random.shuffle(test_items)\n",
    "    \n",
    "    # compute AUC\n",
    "    pos_items_set = set(test_pos_items)\n",
    "    relevant_positions = [pos for pos, i in enumerate(test_items) if i in pos_items_set]\n",
    "    return AUC(relevant_positions, len(test_items))"
   ]
  },
  {
   "cell_type": "code",
   "execution_count": 5,
   "metadata": {},
   "outputs": [
    {
     "name": "stdout",
     "output_type": "stream",
     "text": [
      "experiment successfully finished: results saved to /mnt/workspace/Behance/ExperimentResults/Random_aucs.npy\n",
      "\t elapsed_seconds = 2.72, mean_AUC = 0.49626\n"
     ]
    }
   ],
   "source": [
    "run_experiment(compute_AUC, '/mnt/workspace/Behance/ExperimentResults/', 'Random')"
   ]
  }
 ],
 "metadata": {
  "kernelspec": {
   "display_name": "Python 3",
   "language": "python",
   "name": "python3"
  },
  "language_info": {
   "codemirror_mode": {
    "name": "ipython",
    "version": 3
   },
   "file_extension": ".py",
   "mimetype": "text/x-python",
   "name": "python",
   "nbconvert_exporter": "python",
   "pygments_lexer": "ipython3",
   "version": "3.5.2"
  }
 },
 "nbformat": 4,
 "nbformat_minor": 2
}
