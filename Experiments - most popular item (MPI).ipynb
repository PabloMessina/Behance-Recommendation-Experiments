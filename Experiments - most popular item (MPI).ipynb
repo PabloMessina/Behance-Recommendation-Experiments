{
 "cells": [
  {
   "cell_type": "code",
   "execution_count": 1,
   "metadata": {},
   "outputs": [],
   "source": [
    "%load_ext autoreload\n",
    "%autoreload 1"
   ]
  },
  {
   "cell_type": "code",
   "execution_count": 2,
   "metadata": {},
   "outputs": [],
   "source": [
    "%aimport utils"
   ]
  },
  {
   "cell_type": "code",
   "execution_count": 3,
   "metadata": {},
   "outputs": [],
   "source": [
    "import numpy as np\n",
    "import pandas as pd\n",
    "import random\n",
    "from utils import run_experiment__timeaware, AUC"
   ]
  },
  {
   "cell_type": "code",
   "execution_count": 4,
   "metadata": {},
   "outputs": [],
   "source": [
    "def process_like(user, item, t):\n",
    "    item_freqs[item] = item_freqs.get(item, 0) + 1"
   ]
  },
  {
   "cell_type": "code",
   "execution_count": 5,
   "metadata": {},
   "outputs": [],
   "source": [
    "def get_score(item):\n",
    "    return item_freqs.get(item, 0)"
   ]
  },
  {
   "cell_type": "code",
   "execution_count": 6,
   "metadata": {},
   "outputs": [],
   "source": [
    "def compute_AUC(u, pos_items, neg_items, t):\n",
    "    \n",
    "    # rank test items\n",
    "    pos_items_set = set(pos_items)\n",
    "    all_items = pos_items + neg_items\n",
    "    random.shuffle(all_items)    \n",
    "    all_items.sort(key=get_score, reverse=True)\n",
    "    \n",
    "    # compute AUC\n",
    "    relevant_positions = [pos for pos, item in enumerate(all_items) if item in pos_items_set]\n",
    "    return AUC(relevant_positions, len(all_items))"
   ]
  },
  {
   "cell_type": "code",
   "execution_count": 8,
   "metadata": {},
   "outputs": [
    {
     "name": "stdout",
     "output_type": "stream",
     "text": [
      "len(events) =  999997\n",
      "experiment successfully finished: results saved to /mnt/workspace/Behance/ExperimentResults/MPI_aucs.npy\n",
      "\t elapsed_seconds = 7.74, mean_AUC = 0.76043\n"
     ]
    }
   ],
   "source": [
    "item_freqs = dict()\n",
    "run_experiment__timeaware(process_like, compute_AUC, '/mnt/workspace/Behance/ExperimentResults/', 'MPI')"
   ]
  }
 ],
 "metadata": {
  "kernelspec": {
   "display_name": "Python 3",
   "language": "python",
   "name": "python3"
  },
  "language_info": {
   "codemirror_mode": {
    "name": "ipython",
    "version": 3
   },
   "file_extension": ".py",
   "mimetype": "text/x-python",
   "name": "python",
   "nbconvert_exporter": "python",
   "pygments_lexer": "ipython3",
   "version": "3.5.2"
  }
 },
 "nbformat": 4,
 "nbformat_minor": 2
}
