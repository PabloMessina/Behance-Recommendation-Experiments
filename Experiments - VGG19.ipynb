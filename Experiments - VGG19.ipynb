{
 "cells": [
  {
   "cell_type": "code",
   "execution_count": 1,
   "metadata": {},
   "outputs": [],
   "source": [
    "%load_ext autoreload\n",
    "%autoreload 1"
   ]
  },
  {
   "cell_type": "code",
   "execution_count": 2,
   "metadata": {},
   "outputs": [],
   "source": [
    "%aimport utils"
   ]
  },
  {
   "cell_type": "code",
   "execution_count": 3,
   "metadata": {},
   "outputs": [],
   "source": [
    "import numpy as np\n",
    "from utils import run_multiple_experiments, AUC, load_behance_features, maxsim, avgsim, avgsimtopk"
   ]
  },
  {
   "cell_type": "code",
   "execution_count": 4,
   "metadata": {},
   "outputs": [
    {
     "name": "stdout",
     "output_type": "stream",
     "text": [
      "bytes: 2930692096\n",
      "n_items: 178787\n"
     ]
    }
   ],
   "source": [
    "tmp = load_behance_features('/mnt/workspace/Behance/Behance_Image_Features.b')"
   ]
  },
  {
   "cell_type": "code",
   "execution_count": 5,
   "metadata": {},
   "outputs": [],
   "source": [
    "item_ids = tmp['ids']\n",
    "item_id2index = tmp['id2index']\n",
    "vgg19_original = tmp['featmat']"
   ]
  },
  {
   "cell_type": "code",
   "execution_count": 6,
   "metadata": {},
   "outputs": [],
   "source": [
    "vgg19_pca100 = np.load('/mnt/workspace/Behance/PCA/VGG19-PCA100.npy')\n",
    "vgg19_pca200 = np.load('/mnt/workspace/Behance/PCA/VGG19-PCA200.npy')\n",
    "vgg19_pca300 = np.load('/mnt/workspace/Behance/PCA/VGG19-PCA300.npy')\n",
    "vgg19_pca400 = np.load('/mnt/workspace/Behance/PCA/VGG19-PCA400.npy')\n",
    "vgg19_pca500 = np.load('/mnt/workspace/Behance/PCA/VGG19-PCA500.npy')"
   ]
  },
  {
   "cell_type": "code",
   "execution_count": 7,
   "metadata": {},
   "outputs": [],
   "source": [
    "vgg19_original /= np.reshape(np.linalg.norm(vgg19_original, axis=1), (-1, 1))\n",
    "vgg19_pca100 /= np.reshape(np.linalg.norm(vgg19_pca100, axis=1), (-1, 1))\n",
    "vgg19_pca200 /= np.reshape(np.linalg.norm(vgg19_pca200, axis=1), (-1, 1))\n",
    "vgg19_pca300 /= np.reshape(np.linalg.norm(vgg19_pca300, axis=1), (-1, 1))\n",
    "vgg19_pca400 /= np.reshape(np.linalg.norm(vgg19_pca400, axis=1), (-1, 1))\n",
    "vgg19_pca500 /= np.reshape(np.linalg.norm(vgg19_pca500, axis=1), (-1, 1))"
   ]
  },
  {
   "cell_type": "code",
   "execution_count": 23,
   "metadata": {},
   "outputs": [],
   "source": [
    "featmat_list = [\n",
    "    vgg19_pca100,\n",
    "    vgg19_pca200,\n",
    "    vgg19_pca300,\n",
    "    vgg19_pca400,\n",
    "    vgg19_pca500,\n",
    "    vgg19_original,\n",
    "]\n",
    "featmat_name_list = [\n",
    "    'VGG19-PCA100',\n",
    "    'VGG19-PCA200',\n",
    "    'VGG19-PCA300',\n",
    "    'VGG19-PCA400',\n",
    "    'VGG19-PCA500',\n",
    "    'VGG19-4096',\n",
    "]\n",
    "ks = [1, 2, 3, None]"
   ]
  },
  {
   "cell_type": "code",
   "execution_count": 32,
   "metadata": {},
   "outputs": [],
   "source": [
    "def get_cosine_simfunc(featmat):\n",
    "    return lambda i,j : np.dot(featmat[i], featmat[j])\n",
    "\n",
    "def append_avgsimtopk(scorefunc_list, pairwise_simfunc, k):\n",
    "    scorefunc_list.append(lambda i, js: avgsimtopk(i, js, pairwise_simfunc, k))\n",
    "\n",
    "def append_scorefunc_and_name(scorefunc_list, scorefunc_name_list, pairwise_simfunc, pairwise_simfunc_tag, ks):\n",
    "    for k in ks:\n",
    "        if k == 1:\n",
    "            scorefunc_list.append(lambda i, js: maxsim(i, js, pairwise_simfunc))\n",
    "            scorefunc_name_list.append('%s-maxsim' % pairwise_simfunc_tag)\n",
    "        elif k == None:\n",
    "            scorefunc_list.append(lambda i, js: avgsim(i, js, pairwise_simfunc))\n",
    "            scorefunc_name_list.append('%s-avgsim' % pairwise_simfunc_tag)\n",
    "        else:\n",
    "            assert k >= 2\n",
    "            append_avgsimtopk(scorefunc_list, pairwise_simfunc, k)\n",
    "            scorefunc_name_list.append('%s-avgsimtop%d' % (pairwise_simfunc_tag, k))"
   ]
  },
  {
   "cell_type": "code",
   "execution_count": 33,
   "metadata": {},
   "outputs": [],
   "source": [
    "scorefunc_list = []\n",
    "scorefunc_name_list = []\n",
    "for featmat, featmat_name in zip(featmat_list, featmat_name_list):\n",
    "    cosine_simfunc = get_cosine_simfunc(featmat)\n",
    "    append_scorefunc_and_name(\n",
    "        scorefunc_list, scorefunc_name_list,\n",
    "        cosine_simfunc, '%s-cosine' % featmat_name, ks)"
   ]
  },
  {
   "cell_type": "code",
   "execution_count": 34,
   "metadata": {},
   "outputs": [
    {
     "data": {
      "text/plain": [
       "([<function __main__.append_scorefunc_and_name.<locals>.<lambda>>,\n",
       "  <function __main__.append_avgsimtopk.<locals>.<lambda>>,\n",
       "  <function __main__.append_avgsimtopk.<locals>.<lambda>>,\n",
       "  <function __main__.append_scorefunc_and_name.<locals>.<lambda>>,\n",
       "  <function __main__.append_scorefunc_and_name.<locals>.<lambda>>,\n",
       "  <function __main__.append_avgsimtopk.<locals>.<lambda>>,\n",
       "  <function __main__.append_avgsimtopk.<locals>.<lambda>>,\n",
       "  <function __main__.append_scorefunc_and_name.<locals>.<lambda>>,\n",
       "  <function __main__.append_scorefunc_and_name.<locals>.<lambda>>,\n",
       "  <function __main__.append_avgsimtopk.<locals>.<lambda>>,\n",
       "  <function __main__.append_avgsimtopk.<locals>.<lambda>>,\n",
       "  <function __main__.append_scorefunc_and_name.<locals>.<lambda>>,\n",
       "  <function __main__.append_scorefunc_and_name.<locals>.<lambda>>,\n",
       "  <function __main__.append_avgsimtopk.<locals>.<lambda>>,\n",
       "  <function __main__.append_avgsimtopk.<locals>.<lambda>>,\n",
       "  <function __main__.append_scorefunc_and_name.<locals>.<lambda>>,\n",
       "  <function __main__.append_scorefunc_and_name.<locals>.<lambda>>,\n",
       "  <function __main__.append_avgsimtopk.<locals>.<lambda>>,\n",
       "  <function __main__.append_avgsimtopk.<locals>.<lambda>>,\n",
       "  <function __main__.append_scorefunc_and_name.<locals>.<lambda>>,\n",
       "  <function __main__.append_scorefunc_and_name.<locals>.<lambda>>,\n",
       "  <function __main__.append_avgsimtopk.<locals>.<lambda>>,\n",
       "  <function __main__.append_avgsimtopk.<locals>.<lambda>>,\n",
       "  <function __main__.append_scorefunc_and_name.<locals>.<lambda>>],\n",
       " ['VGG19-PCA100-cosine-maxsim',\n",
       "  'VGG19-PCA100-cosine-avgsimtop2',\n",
       "  'VGG19-PCA100-cosine-avgsimtop3',\n",
       "  'VGG19-PCA100-cosine-avgsim',\n",
       "  'VGG19-PCA200-cosine-maxsim',\n",
       "  'VGG19-PCA200-cosine-avgsimtop2',\n",
       "  'VGG19-PCA200-cosine-avgsimtop3',\n",
       "  'VGG19-PCA200-cosine-avgsim',\n",
       "  'VGG19-PCA300-cosine-maxsim',\n",
       "  'VGG19-PCA300-cosine-avgsimtop2',\n",
       "  'VGG19-PCA300-cosine-avgsimtop3',\n",
       "  'VGG19-PCA300-cosine-avgsim',\n",
       "  'VGG19-PCA400-cosine-maxsim',\n",
       "  'VGG19-PCA400-cosine-avgsimtop2',\n",
       "  'VGG19-PCA400-cosine-avgsimtop3',\n",
       "  'VGG19-PCA400-cosine-avgsim',\n",
       "  'VGG19-PCA500-cosine-maxsim',\n",
       "  'VGG19-PCA500-cosine-avgsimtop2',\n",
       "  'VGG19-PCA500-cosine-avgsimtop3',\n",
       "  'VGG19-PCA500-cosine-avgsim',\n",
       "  'VGG19-4096-cosine-maxsim',\n",
       "  'VGG19-4096-cosine-avgsimtop2',\n",
       "  'VGG19-4096-cosine-avgsimtop3',\n",
       "  'VGG19-4096-cosine-avgsim'])"
      ]
     },
     "execution_count": 34,
     "metadata": {},
     "output_type": "execute_result"
    }
   ],
   "source": [
    "scorefunc_list, scorefunc_name_list"
   ]
  },
  {
   "cell_type": "code",
   "execution_count": 35,
   "metadata": {},
   "outputs": [],
   "source": [
    "def compute_AUC(train_items, test_pos_items, test_neg_items, scorefunc):\n",
    "    \n",
    "    train_idxs = [item_id2index[i] for i in train_items]\n",
    "    test_pos_idxs = [item_id2index[i] for i in test_pos_items]\n",
    "    test_neg_idxs = [item_id2index[i] for i in test_neg_items]\n",
    "    \n",
    "    # rank test items\n",
    "    pos_idxs_set = set(test_pos_idxs)\n",
    "    test_idxs = test_pos_idxs + test_neg_idxs\n",
    "    test_idxs.sort(key=lambda i : scorefunc(i, train_idxs), reverse=True)\n",
    "    \n",
    "    # compute AUC\n",
    "    relevant_positions = [pos for pos, i in enumerate(test_idxs) if i in pos_idxs_set]\n",
    "    return AUC(relevant_positions, len(test_idxs))"
   ]
  },
  {
   "cell_type": "code",
   "execution_count": 36,
   "metadata": {},
   "outputs": [],
   "source": [
    "def get_compute_AUC_func(scorefunc):\n",
    "    def wrapper(train_items, test_pos_items, test_neg_items):\n",
    "        return compute_AUC(train_items, test_pos_items, test_neg_items, scorefunc)\n",
    "    return wrapper"
   ]
  },
  {
   "cell_type": "code",
   "execution_count": 37,
   "metadata": {},
   "outputs": [],
   "source": [
    "compute_AUC_func_list = list(map(get_compute_AUC_func, scorefunc_list))"
   ]
  },
  {
   "cell_type": "code",
   "execution_count": 38,
   "metadata": {
    "scrolled": false
   },
   "outputs": [
    {
     "name": "stdout",
     "output_type": "stream",
     "text": [
      "----- starting experiment VGG19-PCA100-cosine-maxsim ----\n",
      "experiment successfully finished: results saved to /mnt/workspace/Behance/ExperimentResults/VGG19-PCA100-cosine-maxsim_aucs.npy\n",
      "\t elapsed_seconds = 69.14, mean_AUC = 0.64044\n",
      "----- starting experiment VGG19-PCA100-cosine-avgsimtop2 ----\n",
      "experiment successfully finished: results saved to /mnt/workspace/Behance/ExperimentResults/VGG19-PCA100-cosine-avgsimtop2_aucs.npy\n",
      "\t elapsed_seconds = 87.67, mean_AUC = 0.64911\n",
      "----- starting experiment VGG19-PCA100-cosine-avgsimtop3 ----\n",
      "experiment successfully finished: results saved to /mnt/workspace/Behance/ExperimentResults/VGG19-PCA100-cosine-avgsimtop3_aucs.npy\n",
      "\t elapsed_seconds = 87.89, mean_AUC = 0.65280\n",
      "----- starting experiment VGG19-PCA100-cosine-avgsim ----\n",
      "experiment successfully finished: results saved to /mnt/workspace/Behance/ExperimentResults/VGG19-PCA100-cosine-avgsim_aucs.npy\n",
      "\t elapsed_seconds = 72.53, mean_AUC = 0.66036\n",
      "----- starting experiment VGG19-PCA200-cosine-maxsim ----\n",
      "experiment successfully finished: results saved to /mnt/workspace/Behance/ExperimentResults/VGG19-PCA200-cosine-maxsim_aucs.npy\n",
      "\t elapsed_seconds = 71.83, mean_AUC = 0.64063\n",
      "----- starting experiment VGG19-PCA200-cosine-avgsimtop2 ----\n",
      "experiment successfully finished: results saved to /mnt/workspace/Behance/ExperimentResults/VGG19-PCA200-cosine-avgsimtop2_aucs.npy\n",
      "\t elapsed_seconds = 90.20, mean_AUC = 0.64939\n",
      "----- starting experiment VGG19-PCA200-cosine-avgsimtop3 ----\n",
      "experiment successfully finished: results saved to /mnt/workspace/Behance/ExperimentResults/VGG19-PCA200-cosine-avgsimtop3_aucs.npy\n",
      "\t elapsed_seconds = 90.55, mean_AUC = 0.65324\n",
      "----- starting experiment VGG19-PCA200-cosine-avgsim ----\n",
      "experiment successfully finished: results saved to /mnt/workspace/Behance/ExperimentResults/VGG19-PCA200-cosine-avgsim_aucs.npy\n",
      "\t elapsed_seconds = 75.05, mean_AUC = 0.66105\n",
      "----- starting experiment VGG19-PCA300-cosine-maxsim ----\n",
      "experiment successfully finished: results saved to /mnt/workspace/Behance/ExperimentResults/VGG19-PCA300-cosine-maxsim_aucs.npy\n",
      "\t elapsed_seconds = 73.92, mean_AUC = 0.64067\n",
      "----- starting experiment VGG19-PCA300-cosine-avgsimtop2 ----\n",
      "experiment successfully finished: results saved to /mnt/workspace/Behance/ExperimentResults/VGG19-PCA300-cosine-avgsim_aucs.npy\n",
      "\t elapsed_seconds = 77.18, mean_AUC = 0.66118\n",
      "----- starting experiment VGG19-PCA400-cosine-maxsim ----\n",
      "experiment successfully finished: results saved to /mnt/workspace/Behance/ExperimentResults/VGG19-PCA400-cosine-maxsim_aucs.npy\n",
      "\t elapsed_seconds = 76.02, mean_AUC = 0.64044\n",
      "----- starting experiment VGG19-PCA400-cosine-avgsimtop2 ----\n",
      "experiment successfully finished: results saved to /mnt/workspace/Behance/ExperimentResults/VGG19-PCA400-cosine-avgsimtop2_aucs.npy\n",
      "\t elapsed_seconds = 95.25, mean_AUC = 0.64920\n",
      "----- starting experiment VGG19-PCA400-cosine-avgsimtop3 ----\n",
      "experiment successfully finished: results saved to /mnt/workspace/Behance/ExperimentResults/VGG19-PCA400-cosine-avgsimtop3_aucs.npy\n",
      "\t elapsed_seconds = 95.30, mean_AUC = 0.65314\n",
      "----- starting experiment VGG19-PCA400-cosine-avgsim ----\n",
      "experiment successfully finished: results saved to /mnt/workspace/Behance/ExperimentResults/VGG19-PCA400-cosine-avgsim_aucs.npy\n",
      "\t elapsed_seconds = 79.58, mean_AUC = 0.66123\n",
      "----- starting experiment VGG19-PCA500-cosine-maxsim ----\n",
      "experiment successfully finished: results saved to /mnt/workspace/Behance/ExperimentResults/VGG19-PCA500-cosine-maxsim_aucs.npy\n",
      "\t elapsed_seconds = 78.34, mean_AUC = 0.64032\n",
      "----- starting experiment VGG19-PCA500-cosine-avgsimtop2 ----\n",
      "experiment successfully finished: results saved to /mnt/workspace/Behance/ExperimentResults/VGG19-PCA500-cosine-avgsimtop2_aucs.npy\n",
      "\t elapsed_seconds = 97.40, mean_AUC = 0.64907\n",
      "----- starting experiment VGG19-PCA500-cosine-avgsimtop3 ----\n",
      "experiment successfully finished: results saved to /mnt/workspace/Behance/ExperimentResults/VGG19-PCA500-cosine-avgsimtop3_aucs.npy\n",
      "\t elapsed_seconds = 97.70, mean_AUC = 0.65310\n",
      "----- starting experiment VGG19-PCA500-cosine-avgsim ----\n",
      "experiment successfully finished: results saved to /mnt/workspace/Behance/ExperimentResults/VGG19-PCA500-cosine-avgsim_aucs.npy\n",
      "\t elapsed_seconds = 81.86, mean_AUC = 0.66128\n",
      "----- starting experiment VGG19-4096-cosine-maxsim ----\n",
      "experiment successfully finished: results saved to /mnt/workspace/Behance/ExperimentResults/VGG19-4096-cosine-maxsim_aucs.npy\n",
      "\t elapsed_seconds = 174.14, mean_AUC = 0.61673\n",
      "----- starting experiment VGG19-4096-cosine-avgsimtop2 ----\n",
      "experiment successfully finished: results saved to /mnt/workspace/Behance/ExperimentResults/VGG19-4096-cosine-avgsimtop2_aucs.npy\n",
      "\t elapsed_seconds = 196.52, mean_AUC = 0.62133\n",
      "----- starting experiment VGG19-4096-cosine-avgsimtop3 ----\n",
      "experiment successfully finished: results saved to /mnt/workspace/Behance/ExperimentResults/VGG19-4096-cosine-avgsimtop3_aucs.npy\n",
      "\t elapsed_seconds = 196.62, mean_AUC = 0.62249\n",
      "----- starting experiment VGG19-4096-cosine-avgsim ----\n",
      "experiment successfully finished: results saved to /mnt/workspace/Behance/ExperimentResults/VGG19-4096-cosine-avgsim_aucs.npy\n",
      "\t elapsed_seconds = 178.55, mean_AUC = 0.61840\n"
     ]
    }
   ],
   "source": [
    "run_multiple_experiments(compute_AUC_func_list, scorefunc_name_list, '/mnt/workspace/Behance/ExperimentResults/')"
   ]
  }
 ],
 "metadata": {
  "kernelspec": {
   "display_name": "Python 3",
   "language": "python",
   "name": "python3"
  },
  "language_info": {
   "codemirror_mode": {
    "name": "ipython",
    "version": 3
   },
   "file_extension": ".py",
   "mimetype": "text/x-python",
   "name": "python",
   "nbconvert_exporter": "python",
   "pygments_lexer": "ipython3",
   "version": "3.5.2"
  }
 },
 "nbformat": 4,
 "nbformat_minor": 2
}
