{
 "cells": [
  {
   "cell_type": "code",
   "execution_count": 1,
   "metadata": {},
   "outputs": [],
   "source": [
    "%load_ext autoreload\n",
    "%autoreload 1"
   ]
  },
  {
   "cell_type": "code",
   "execution_count": 2,
   "metadata": {},
   "outputs": [],
   "source": [
    "from utils import load_behance_item_ids_with_features\n",
    "import pandas as pd\n",
    "import numpy as np\n",
    "import random\n",
    "%aimport utils"
   ]
  },
  {
   "cell_type": "code",
   "execution_count": 28,
   "metadata": {},
   "outputs": [
    {
     "name": "stdout",
     "output_type": "stream",
     "text": [
      "Behance_appreciate_1M\t  Behance_Item_to_Owners  test_pos.npy\t  train.npy\r\n",
      "Behance_Image_Features.b  test_neg.npy\t\t  test_users.npy\r\n"
     ]
    }
   ],
   "source": [
    "!ls /mnt/workspace/Behance/"
   ]
  },
  {
   "cell_type": "code",
   "execution_count": 4,
   "metadata": {},
   "outputs": [],
   "source": [
    "DATASET_PATH = '/mnt/workspace/Behance/'"
   ]
  },
  {
   "cell_type": "code",
   "execution_count": 5,
   "metadata": {},
   "outputs": [
    {
     "name": "stdout",
     "output_type": "stream",
     "text": [
      "bytes: 2930692096\n",
      "n_items: 178787\n"
     ]
    }
   ],
   "source": [
    "tmp = load_behance_item_ids_with_features(DATASET_PATH + 'Behance_Image_Features.b')"
   ]
  },
  {
   "cell_type": "code",
   "execution_count": 6,
   "metadata": {},
   "outputs": [],
   "source": [
    "item_ids = tmp['ids']\n",
    "item_id2index = tmp['id2index']"
   ]
  },
  {
   "cell_type": "code",
   "execution_count": 7,
   "metadata": {},
   "outputs": [],
   "source": [
    "item_ids_set = set(item_ids)\n",
    "assert len(item_ids_set) == len(item_ids)"
   ]
  },
  {
   "cell_type": "code",
   "execution_count": 8,
   "metadata": {},
   "outputs": [],
   "source": [
    "df_likes = pd.read_csv(DATASET_PATH + 'Behance_appreciate_1M', sep=\" \",\n",
    "                            header=None, names=['user', 'item', 'timestamp'])"
   ]
  },
  {
   "cell_type": "code",
   "execution_count": 9,
   "metadata": {},
   "outputs": [],
   "source": [
    "df_likes = df_likes[df_likes.item.isin(item_ids_set)]\n",
    "df_likes.sort_values('timestamp', inplace=True)"
   ]
  },
  {
   "cell_type": "code",
   "execution_count": 10,
   "metadata": {},
   "outputs": [
    {
     "data": {
      "text/plain": [
       "999999"
      ]
     },
     "execution_count": 10,
     "metadata": {},
     "output_type": "execute_result"
    }
   ],
   "source": [
    "len(df_likes)"
   ]
  },
  {
   "cell_type": "code",
   "execution_count": 11,
   "metadata": {},
   "outputs": [],
   "source": [
    "user_ids = df_likes.user.unique()"
   ]
  },
  {
   "cell_type": "code",
   "execution_count": 12,
   "metadata": {},
   "outputs": [],
   "source": [
    "train_rows = []\n",
    "test_pos_rows = []\n",
    "test_neg_rows = []"
   ]
  },
  {
   "cell_type": "code",
   "execution_count": 13,
   "metadata": {},
   "outputs": [],
   "source": [
    "user2mint = { u:None for u in user_ids }\n",
    "user2maxt = { u:None for u in user_ids }\n",
    "for u, _, t in df_likes.values:\n",
    "    mint = user2mint[u]\n",
    "    maxt = user2maxt[u]\n",
    "    user2mint[u] = t if mint is None else min(mint, t)\n",
    "    user2maxt[u] = t if maxt is None else max(maxt, t)"
   ]
  },
  {
   "cell_type": "code",
   "execution_count": 14,
   "metadata": {},
   "outputs": [],
   "source": [
    "testable_user_ids = set()"
   ]
  },
  {
   "cell_type": "code",
   "execution_count": 15,
   "metadata": {},
   "outputs": [],
   "source": [
    "user2likedItems = { u:set() for u in user_ids }\n",
    "old_t = -999999\n",
    "for u, i, t in df_likes.values:\n",
    "    assert old_t <= t\n",
    "    old_t = t\n",
    "    liked_items = user2likedItems[u]\n",
    "    liked_items.add(i)\n",
    "    mint = user2mint[u]\n",
    "    maxt = user2maxt[u]\n",
    "    assert mint <= t <= maxt\n",
    "    if mint < t and t == maxt:\n",
    "        test_pos_rows.append((u,i))\n",
    "        testable_user_ids.add(u)\n",
    "    else:\n",
    "        train_rows.append((u,i))"
   ]
  },
  {
   "cell_type": "code",
   "execution_count": 17,
   "metadata": {},
   "outputs": [
    {
     "data": {
      "text/plain": [
       "47559"
      ]
     },
     "execution_count": 17,
     "metadata": {},
     "output_type": "execute_result"
    }
   ],
   "source": [
    "len(testable_user_ids)"
   ]
  },
  {
   "cell_type": "code",
   "execution_count": 16,
   "metadata": {},
   "outputs": [],
   "source": [
    "N_NEG_SAMPLES_PER_USER = 40"
   ]
  },
  {
   "cell_type": "code",
   "execution_count": 18,
   "metadata": {},
   "outputs": [],
   "source": [
    "for u in testable_user_ids:\n",
    "    sample_set = set()\n",
    "    liked_items = user2likedItems[u]\n",
    "    for _ in range(N_NEG_SAMPLES_PER_USER):\n",
    "        while True:\n",
    "            i = random.choice(item_ids)\n",
    "            if i in sample_set: continue\n",
    "            if i in liked_items: continue\n",
    "            sample_set.add(i)\n",
    "            test_neg_rows.append((u,i))\n",
    "            break"
   ]
  },
  {
   "cell_type": "code",
   "execution_count": 25,
   "metadata": {},
   "outputs": [],
   "source": [
    "train_array = np.array(train_rows)\n",
    "test_pos_array = np.array(test_pos_rows)\n",
    "test_neg_array = np.array(test_neg_rows)\n",
    "test_users_array = np.array(list(testable_user_ids))"
   ]
  },
  {
   "cell_type": "code",
   "execution_count": 26,
   "metadata": {},
   "outputs": [
    {
     "data": {
      "text/plain": [
       "((952438, 2), (47561, 2), (1902360, 2), (47559,))"
      ]
     },
     "execution_count": 26,
     "metadata": {},
     "output_type": "execute_result"
    }
   ],
   "source": [
    "train_array.shape, test_pos_array.shape, test_neg_array.shape, test_users_array.shape"
   ]
  },
  {
   "cell_type": "code",
   "execution_count": 27,
   "metadata": {},
   "outputs": [],
   "source": [
    "np.save(DATASET_PATH + 'train.npy', train_array)\n",
    "np.save(DATASET_PATH + 'test_pos.npy', test_pos_array)\n",
    "np.save(DATASET_PATH + 'test_neg.npy', test_neg_array)\n",
    "np.save(DATASET_PATH + 'test_users.npy', test_users_array)"
   ]
  }
 ],
 "metadata": {
  "kernelspec": {
   "display_name": "Python 3",
   "language": "python",
   "name": "python3"
  },
  "language_info": {
   "codemirror_mode": {
    "name": "ipython",
    "version": 3
   },
   "file_extension": ".py",
   "mimetype": "text/x-python",
   "name": "python",
   "nbconvert_exporter": "python",
   "pygments_lexer": "ipython3",
   "version": "3.5.2"
  }
 },
 "nbformat": 4,
 "nbformat_minor": 2
}
