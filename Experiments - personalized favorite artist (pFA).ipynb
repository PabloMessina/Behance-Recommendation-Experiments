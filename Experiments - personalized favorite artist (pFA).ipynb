{
 "cells": [
  {
   "cell_type": "code",
   "execution_count": 1,
   "metadata": {},
   "outputs": [],
   "source": [
    "%load_ext autoreload\n",
    "%autoreload 1"
   ]
  },
  {
   "cell_type": "code",
   "execution_count": 3,
   "metadata": {},
   "outputs": [],
   "source": [
    "%aimport utils"
   ]
  },
  {
   "cell_type": "code",
   "execution_count": 10,
   "metadata": {},
   "outputs": [],
   "source": [
    "import numpy as np\n",
    "import pandas as pd\n",
    "import random\n",
    "from utils import pairs2dict, run_experiment, AUC"
   ]
  },
  {
   "cell_type": "code",
   "execution_count": 5,
   "metadata": {},
   "outputs": [],
   "source": [
    "df_item2artist = pd.read_csv('/mnt/workspace/Behance/Behance_Item_to_Owners', sep=\" \",\n",
    "                            header=None, names=['item', 'artist'])"
   ]
  },
  {
   "cell_type": "code",
   "execution_count": 6,
   "metadata": {},
   "outputs": [],
   "source": [
    "item2artists = pairs2dict(df_item2artist.values)"
   ]
  },
  {
   "cell_type": "code",
   "execution_count": 7,
   "metadata": {},
   "outputs": [],
   "source": [
    "def fa_score(artist_freqs, item):\n",
    "    return sum(artist_freqs.get(a,0) for a in item2artists[item])"
   ]
  },
  {
   "cell_type": "code",
   "execution_count": 8,
   "metadata": {},
   "outputs": [],
   "source": [
    "def compute_AUC(train_items, test_pos_items, test_neg_items):\n",
    "    \n",
    "    # compute artists frequencies in train items\n",
    "    artist_freqs = dict()    \n",
    "    for i in train_items:\n",
    "        for a in item2artists[i]:\n",
    "            artist_freqs[a] = artist_freqs.get(a, 0) + 1\n",
    "    assert len(artist_freqs) > 0\n",
    "    assert all(x > 0 for x in artist_freqs.values())    \n",
    "    \n",
    "    # rank test items\n",
    "    pos_items_set = set(test_pos_items)\n",
    "    test_items = test_pos_items + test_neg_items\n",
    "    random.shuffle(test_items)\n",
    "    test_items.sort(key=lambda i:fa_score(artist_freqs, i), reverse=True)\n",
    "    \n",
    "    # compute AUC\n",
    "    relevant_positions = [pos for pos, i in enumerate(test_items) if i in pos_items_set]\n",
    "    return AUC(relevant_positions, len(test_items))"
   ]
  },
  {
   "cell_type": "code",
   "execution_count": 11,
   "metadata": {},
   "outputs": [
    {
     "name": "stdout",
     "output_type": "stream",
     "text": [
      "experiment successfully finished: results saved to /mnt/workspace/Behance/ExperimentResults/pFA_aucs.npy\n",
      "\t elapsed_seconds = 5.32, mean_AUC = 0.65470\n"
     ]
    }
   ],
   "source": [
    "run_experiment(compute_AUC, '/mnt/workspace/Behance/ExperimentResults/', 'pFA')"
   ]
  }
 ],
 "metadata": {
  "kernelspec": {
   "display_name": "Python 3",
   "language": "python",
   "name": "python3"
  },
  "language_info": {
   "codemirror_mode": {
    "name": "ipython",
    "version": 3
   },
   "file_extension": ".py",
   "mimetype": "text/x-python",
   "name": "python",
   "nbconvert_exporter": "python",
   "pygments_lexer": "ipython3",
   "version": "3.5.2"
  }
 },
 "nbformat": 4,
 "nbformat_minor": 2
}
