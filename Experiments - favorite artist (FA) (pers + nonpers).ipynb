{
 "cells": [
  {
   "cell_type": "code",
   "execution_count": 1,
   "metadata": {},
   "outputs": [],
   "source": [
    "%load_ext autoreload\n",
    "%autoreload 1"
   ]
  },
  {
   "cell_type": "code",
   "execution_count": 2,
   "metadata": {},
   "outputs": [],
   "source": [
    "%aimport utils"
   ]
  },
  {
   "cell_type": "code",
   "execution_count": 3,
   "metadata": {},
   "outputs": [],
   "source": [
    "import numpy as np\n",
    "import pandas as pd\n",
    "import random\n",
    "from utils import pairs2dict, run_experiment__timeaware, AUC"
   ]
  },
  {
   "cell_type": "code",
   "execution_count": 4,
   "metadata": {},
   "outputs": [],
   "source": [
    "df_item2artist = pd.read_csv('/mnt/workspace/Behance/Behance_Item_to_Owners', sep=\" \",\n",
    "                            header=None, names=['item', 'artist'])"
   ]
  },
  {
   "cell_type": "code",
   "execution_count": 5,
   "metadata": {},
   "outputs": [],
   "source": [
    "item2artists = pairs2dict(df_item2artist.values)"
   ]
  },
  {
   "cell_type": "code",
   "execution_count": 6,
   "metadata": {},
   "outputs": [],
   "source": [
    "def process_like(user, item, t):\n",
    "    try:\n",
    "        artist_freqs = user2artist_freqs[user]\n",
    "    except KeyError:\n",
    "        artist_freqs = user2artist_freqs[user] = dict()\n",
    "    for a in item2artists[item]:\n",
    "        artist_freqs[a] = artist_freqs.get(a, 0) + 1\n",
    "        global_artist_freqs[a] = global_artist_freqs.get(a, 0) + 1"
   ]
  },
  {
   "cell_type": "code",
   "execution_count": 7,
   "metadata": {},
   "outputs": [],
   "source": [
    "def fa_score(artist_freqs, item):    \n",
    "    return (sum(artist_freqs.get(a,0) for a in item2artists[item]),\\\n",
    "            sum(global_artist_freqs.get(a,0) for a in item2artists[item]))\n",
    "            "
   ]
  },
  {
   "cell_type": "code",
   "execution_count": 8,
   "metadata": {},
   "outputs": [],
   "source": [
    "def compute_AUC(u, pos_items, neg_items, t):\n",
    "    \n",
    "    # rank test items\n",
    "    pos_items_set = set(pos_items)\n",
    "    all_items = pos_items + neg_items\n",
    "    random.shuffle(all_items)    \n",
    "    artist_freqs = user2artist_freqs[u]\n",
    "    all_items.sort(key=lambda i: fa_score(artist_freqs, i), reverse=True)\n",
    "    \n",
    "    # compute AUC\n",
    "    relevant_positions = [pos for pos, item in enumerate(all_items) if item in pos_items_set]\n",
    "    return AUC(relevant_positions, len(all_items))"
   ]
  },
  {
   "cell_type": "code",
   "execution_count": 10,
   "metadata": {},
   "outputs": [
    {
     "name": "stdout",
     "output_type": "stream",
     "text": [
      "len(events) =  999997\n",
      "experiment successfully finished: results saved to /mnt/workspace/Behance/ExperimentResults/FA(p+np)_aucs.npy\n",
      "\t elapsed_seconds = 14.20, mean_AUC = 0.85261\n"
     ]
    }
   ],
   "source": [
    "user2artist_freqs = dict()\n",
    "global_artist_freqs = dict()\n",
    "run_experiment__timeaware(process_like, compute_AUC, '/mnt/workspace/Behance/ExperimentResults/', 'FA(p+np)')"
   ]
  }
 ],
 "metadata": {
  "kernelspec": {
   "display_name": "Python 3",
   "language": "python",
   "name": "python3"
  },
  "language_info": {
   "codemirror_mode": {
    "name": "ipython",
    "version": 3
   },
   "file_extension": ".py",
   "mimetype": "text/x-python",
   "name": "python",
   "nbconvert_exporter": "python",
   "pygments_lexer": "ipython3",
   "version": "3.5.2"
  }
 },
 "nbformat": 4,
 "nbformat_minor": 2
}
